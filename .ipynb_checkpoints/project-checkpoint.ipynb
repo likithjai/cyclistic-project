{
 "cells": [
  {
   "cell_type": "markdown",
   "metadata": {},
   "source": [
    "# Cyclistic Bike-share Data Analysis Project"
   ]
  },
  {
   "cell_type": "markdown",
   "metadata": {},
   "source": [
    "Relevant import statements and telling pandas to display unlimited columns"
   ]
  },
  {
   "cell_type": "code",
   "execution_count": 1,
   "metadata": {},
   "outputs": [],
   "source": [
    "import pandas as pd\n",
    "from pathlib import Path\n",
    "from datetime import datetime as dt\n",
    "import matplotlib.pyplot as plt\n",
    "pd.set_option('display.max_columns', None)"
   ]
  },
  {
   "cell_type": "markdown",
   "metadata": {},
   "source": [
    "`p` will likely have to change but needs to point to directory with all the `.csv` files"
   ]
  },
  {
   "cell_type": "code",
   "execution_count": 2,
   "metadata": {},
   "outputs": [],
   "source": [
    "p=Path(r'/home/likith/Documents/job_hunt_docs/coursera/google-data-analytics/8_capstone/week2/directory_env/.venv2/data').glob('*')\n",
    "df_dict={}\n",
    "for i in p:\n",
    "    if i.stem!='master':\n",
    "        curr_date=dt.strptime(i.stem.split('-')[0],'%Y%m')\n",
    "        date_str=dt.strftime(curr_date,'%b %Y')\n",
    "        df_dict[date_str]=pd.read_csv(i)"
   ]
  },
  {
   "cell_type": "markdown",
   "metadata": {},
   "source": [
    "printing out all the keys of the dictionary (with the values being `DataFrames`) and the shape of each one"
   ]
  },
  {
   "cell_type": "code",
   "execution_count": 3,
   "metadata": {},
   "outputs": [
    {
     "name": "stdout",
     "output_type": "stream",
     "text": [
      "dict_keys(['Apr 2021', 'Jan 2021', 'Feb 2021', 'Nov 2020', 'Jun 2021', 'Aug 2021', 'Sep 2020', 'Dec 2020', 'May 2021', 'Oct 2020', 'Mar 2021', 'Sep 2021', 'Jul 2021'])\n",
      "Apr 2021 (337230, 13)\n",
      "Jan 2021 (96834, 13)\n",
      "Feb 2021 (49622, 13)\n",
      "Nov 2020 (259716, 13)\n",
      "Jun 2021 (729595, 13)\n",
      "Aug 2021 (804352, 13)\n",
      "Sep 2020 (532958, 13)\n",
      "Dec 2020 (131573, 13)\n",
      "May 2021 (531633, 13)\n",
      "Oct 2020 (388653, 13)\n",
      "Mar 2021 (228496, 13)\n",
      "Sep 2021 (756147, 13)\n",
      "Jul 2021 (822410, 13)\n"
     ]
    }
   ],
   "source": [
    "print(df_dict.keys())\n",
    "for k,v in df_dict.items():\n",
    "    print(k,str(v.shape)) #all csv's have the same columns"
   ]
  },
  {
   "cell_type": "code",
   "execution_count": 4,
   "metadata": {
    "scrolled": true
   },
   "outputs": [
    {
     "name": "stdout",
     "output_type": "stream",
     "text": [
      "            ride_id  rideable_type           started_at             ended_at  \\\n",
      "0  6C992BD37A98A63F   classic_bike  2021-04-12 18:25:36  2021-04-12 18:56:55   \n",
      "1  1E0145613A209000    docked_bike  2021-04-27 17:27:11  2021-04-27 18:31:29   \n",
      "2  E498E15508A80BAD    docked_bike  2021-04-03 12:42:45  2021-04-07 11:40:24   \n",
      "3  1887262AD101C604   classic_bike  2021-04-17 09:17:42  2021-04-17 09:42:48   \n",
      "4  C123548CAB2A32A5    docked_bike  2021-04-03 12:42:25  2021-04-03 14:13:42   \n",
      "5  097E76F3651B1AC1   classic_bike  2021-04-25 18:43:18  2021-04-25 18:43:59   \n",
      "6  53C38EB01E6FA5C4   classic_bike  2021-04-03 16:28:21  2021-04-03 16:29:47   \n",
      "7  D53AC014EFD6E2BA  electric_bike  2021-04-06 16:35:06  2021-04-06 17:00:56   \n",
      "8  6E2F7CA1FA9E0AFB   classic_bike  2021-04-12 15:22:54  2021-04-12 16:15:48   \n",
      "9  04218447AAC80BD1   classic_bike  2021-04-24 15:04:55  2021-04-24 15:06:16   \n",
      "\n",
      "         start_station_name start_station_id              end_station_name  \\\n",
      "0     State St & Pearson St     TA1307000061  Southport Ave & Waveland Ave   \n",
      "1  Dorchester Ave & 49th St     KA1503000069      Dorchester Ave & 49th St   \n",
      "2     Loomis Blvd & 84th St            20121         Loomis Blvd & 84th St   \n",
      "3   Honore St & Division St     TA1305000034  Southport Ave & Waveland Ave   \n",
      "4     Loomis Blvd & 84th St            20121         Loomis Blvd & 84th St   \n",
      "5      Clinton St & Polk St            15542          Clinton St & Polk St   \n",
      "6     Ashland Ave & 63rd St            16948         Ashland Ave & 63rd St   \n",
      "7  Dorchester Ave & 49th St     KA1503000069      Dorchester Ave & 49th St   \n",
      "8     Ashland Ave & 63rd St            16948         Ashland Ave & 63rd St   \n",
      "9  Dorchester Ave & 49th St     KA1503000069      Dorchester Ave & 49th St   \n",
      "\n",
      "  end_station_id  start_lat  start_lng    end_lat    end_lng member_casual  \n",
      "0          13235  41.897448 -87.628722  41.948150 -87.663940        member  \n",
      "1   KA1503000069  41.805772 -87.592464  41.805772 -87.592464        casual  \n",
      "2          20121  41.741487 -87.658410  41.741487 -87.658410        casual  \n",
      "3          13235  41.903119 -87.673935  41.948150 -87.663940        member  \n",
      "4          20121  41.741487 -87.658410  41.741487 -87.658410        casual  \n",
      "5          15542  41.871467 -87.640949  41.871467 -87.640949        casual  \n",
      "6          16948  41.779374 -87.664843  41.779374 -87.664843        casual  \n",
      "7   KA1503000069  41.805832 -87.592478  41.805803 -87.592662        casual  \n",
      "8          16948  41.779374 -87.664843  41.779374 -87.664843        casual  \n",
      "9   KA1503000069  41.805772 -87.592464  41.805772 -87.592464        casual  \n"
     ]
    }
   ],
   "source": [
    "print(df_dict['Apr 2021'].head(10))"
   ]
  },
  {
   "cell_type": "markdown",
   "metadata": {},
   "source": [
    "functions that will ultimately be passed to `pd.apply` to add calculated columns like ride length, (length of ride formatted as `HH:MM:SS`) ride duration (length of ride in seconds), and weekday (which returns the day of the week of a given date).\n",
    "these functions are written so that they return `None` for rows where `end_at` is earlier than `start_at`. these rows will ultimately be filtered out"
   ]
  },
  {
   "cell_type": "code",
   "execution_count": null,
   "metadata": {},
   "outputs": [],
   "source": [
    "def rlength(row):\n",
    "    start_dt,end_dt=row['started_at'],row['ended_at']\n",
    "    start_dt,end_dt=[dt.strptime(i,'%Y-%m-%d %H:%M:%S') for i in [start_dt,end_dt]]\n",
    "    rlen=None\n",
    "    if end_dt>=start_dt:\n",
    "        rlen=str(end_dt-start_dt)\n",
    "    return rlen\n",
    "def rdur(row):\n",
    "    start_dt, end_dt=row['started_at'],row['ended_at']\n",
    "    start_dt,end_dt=[dt.strptime(i,'%Y-%m-%d %H:%M:%S') for i in [start_dt,end_dt]]\n",
    "    rlen=None\n",
    "    if end_dt>=start_dt:\n",
    "        rlen=end_dt-start_dt\n",
    "        rlen=rlen.total_seconds()\n",
    "    return rlen\n",
    "\n",
    "def weekday(row):\n",
    "    return dt.strptime(row['started_at'],'%Y-%m-%d %H:%M:%S').strftime('%a')"
   ]
  },
  {
   "cell_type": "markdown",
   "metadata": {},
   "source": [
    "adding relevant calculated columns"
   ]
  },
  {
   "cell_type": "code",
   "execution_count": 5,
   "metadata": {},
   "outputs": [],
   "source": [
    "for k,v in df_dict.items():\n",
    "    v.loc[:,'ride_length']=v.apply(rlength,axis=1)\n",
    "    v.loc[:,'ride_duration']=v.apply(rdur,axis=1)\n",
    "    v.loc[:,'day_of_week']=v.apply(weekday,axis=1)"
   ]
  },
  {
   "cell_type": "markdown",
   "metadata": {},
   "source": [
    "checking the `~` notation. goal is to remove the entries where `end_at` is earlier than `start_at`. The previous functions return `None` for these so that they can be easily filtered out using the `.isnull()` method"
   ]
  },
  {
   "cell_type": "code",
   "execution_count": 9,
   "metadata": {},
   "outputs": [
    {
     "name": "stdout",
     "output_type": "stream",
     "text": [
      "                 ride_id  rideable_type           started_at  \\\n",
      "0       70B6A9A437D4C30D   classic_bike  2020-12-27 12:44:29   \n",
      "1       158A465D4E74C54A  electric_bike  2020-12-18 17:37:15   \n",
      "2       5262016E0F1F2F9A  electric_bike  2020-12-15 15:04:33   \n",
      "3       BE119628E44F871E  electric_bike  2020-12-15 15:54:18   \n",
      "4       69AF78D57854E110  electric_bike  2020-12-22 12:08:17   \n",
      "...                  ...            ...                  ...   \n",
      "131568  4631EE956BCEA738   classic_bike  2020-12-19 13:59:33   \n",
      "131569  D17CBEDEA8DBDFF6  electric_bike  2020-12-20 15:48:41   \n",
      "131570  447A6C67E9AF962E    docked_bike  2020-12-02 16:59:58   \n",
      "131571  F558C17E95751C62  electric_bike  2020-12-20 18:06:52   \n",
      "131572  E1888F4B274EEA12  electric_bike  2020-12-03 09:43:42   \n",
      "\n",
      "                   ended_at          start_station_name start_station_id  \\\n",
      "0       2020-12-27 12:55:06  Aberdeen St & Jackson Blvd            13157   \n",
      "1       2020-12-18 17:44:19                         NaN              NaN   \n",
      "2       2020-12-15 15:11:28                         NaN              NaN   \n",
      "3       2020-12-15 16:00:11                         NaN              NaN   \n",
      "4       2020-12-22 12:10:59                         NaN              NaN   \n",
      "...                     ...                         ...              ...   \n",
      "131568  2020-12-19 14:03:21        Rhodes Ave & 32nd St            13215   \n",
      "131569  2020-12-20 15:52:14        Rhodes Ave & 32nd St            13215   \n",
      "131570  2020-12-02 17:08:28        Rhodes Ave & 32nd St            13215   \n",
      "131571  2020-12-20 18:09:53        Rhodes Ave & 32nd St            13215   \n",
      "131572  2020-12-03 09:47:14        Rhodes Ave & 32nd St            13215   \n",
      "\n",
      "                 end_station_name end_station_id  start_lat  start_lng  \\\n",
      "0       Desplaines St & Kinzie St   TA1306000003  41.877726 -87.654787   \n",
      "1                             NaN            NaN  41.930000 -87.700000   \n",
      "2                             NaN            NaN  41.910000 -87.690000   \n",
      "3                             NaN            NaN  41.920000 -87.700000   \n",
      "4                             NaN            NaN  41.800000 -87.590000   \n",
      "...                           ...            ...        ...        ...   \n",
      "131568      Indiana Ave & 31st St   TA1308000036  41.836208 -87.613533   \n",
      "131569      Indiana Ave & 31st St   TA1308000036  41.836723 -87.613365   \n",
      "131570      Indiana Ave & 31st St   TA1308000036  41.836208 -87.613533   \n",
      "131571      Indiana Ave & 31st St   TA1308000036  41.836734 -87.613394   \n",
      "131572      Indiana Ave & 31st St   TA1308000036  41.836766 -87.613366   \n",
      "\n",
      "          end_lat    end_lng member_casual ride_length  ride_duration  \\\n",
      "0       41.888716 -87.644448        member     0:10:37          637.0   \n",
      "1       41.910000 -87.700000        member     0:07:04          424.0   \n",
      "2       41.930000 -87.700000        member     0:06:55          415.0   \n",
      "3       41.910000 -87.700000        member     0:05:53          353.0   \n",
      "4       41.800000 -87.590000        member     0:02:42          162.0   \n",
      "...           ...        ...           ...         ...            ...   \n",
      "131568  41.838842 -87.621857        casual     0:03:48          228.0   \n",
      "131569  41.838723 -87.621854        member     0:03:33          213.0   \n",
      "131570  41.838842 -87.621857        member     0:08:30          510.0   \n",
      "131571  41.838749 -87.621862        member     0:03:01          181.0   \n",
      "131572  41.838681 -87.621854        member     0:03:32          212.0   \n",
      "\n",
      "       day_of_week  \n",
      "0              Sun  \n",
      "1              Fri  \n",
      "2              Tue  \n",
      "3              Tue  \n",
      "4              Tue  \n",
      "...            ...  \n",
      "131568         Sat  \n",
      "131569         Sun  \n",
      "131570         Wed  \n",
      "131571         Sun  \n",
      "131572         Thu  \n",
      "\n",
      "[131139 rows x 16 columns]\n"
     ]
    }
   ],
   "source": [
    "dec_df=df_dict['Dec 2020']\n",
    "print(dec_df[~dec_df['ride_duration'].isnull()])"
   ]
  },
  {
   "cell_type": "markdown",
   "metadata": {},
   "source": [
    "now, to collect all the `DataFrames` (including the calculated columns) and dump them into one `master.csv` file while all the data is sorted chronologically so that the kernel can be reset and *this* can be read in one shot going forward.\n",
    "\n",
    "**Step 1**\n",
    "collect keys of `df_dict`, convert to `datetime` objects, and sort in (ascending) chronological order\n",
    "\n",
    "**Step 2**\n",
    "format list of `datetime` objects to list of strings (formatted in whatever way is convenient)\n",
    "\n",
    "**Step 3**\n",
    "collect `DataFrames` according to `keys_list`. now what we have is a list of `DataFrames`, which are sorted chronologically with the order inherent to the variable type (i.e., `list`) as opposed to `Dictionary`\n",
    "\n",
    "**Step 4**\n",
    "filter out the rows where `ride_duration` is `None`"
   ]
  },
  {
   "cell_type": "code",
   "execution_count": 10,
   "metadata": {},
   "outputs": [
    {
     "name": "stdout",
     "output_type": "stream",
     "text": [
      "['Apr 2021', 'Jan 2021', 'Feb 2021', 'Nov 2020', 'Jun 2021', 'Aug 2021', 'Sep 2020', 'Dec 2020', 'May 2021', 'Oct 2020', 'Mar 2021', 'Sep 2021', 'Jul 2021']\n"
     ]
    }
   ],
   "source": [
    "#concatenate all dataframes in chronological order and write them to a csv so that this can be read for subsequent runs of the analysis\n",
    "#first collect keys (of df_dict) and sort in (ascending) chronological order\n",
    "print([i for i in df_dict.keys()])\n",
    "date_list=sorted([dt.strptime(i,'%b %Y') for i in df_dict.keys()])\n",
    "keys_list=[dt.strftime(i,'%b %Y') for i in date_list]\n",
    "\n",
    "#now collect dataframes according to keys_list\n",
    "df_list=[df_dict[k] for k in keys_list]\n",
    "df=pd.concat(df_list)\n",
    "df=df[~df['ride_duration'].isnull()]"
   ]
  },
  {
   "cell_type": "code",
   "execution_count": 11,
   "metadata": {
    "scrolled": true
   },
   "outputs": [
    {
     "data": {
      "text/html": [
       "<div>\n",
       "<style scoped>\n",
       "    .dataframe tbody tr th:only-of-type {\n",
       "        vertical-align: middle;\n",
       "    }\n",
       "\n",
       "    .dataframe tbody tr th {\n",
       "        vertical-align: top;\n",
       "    }\n",
       "\n",
       "    .dataframe thead th {\n",
       "        text-align: right;\n",
       "    }\n",
       "</style>\n",
       "<table border=\"1\" class=\"dataframe\">\n",
       "  <thead>\n",
       "    <tr style=\"text-align: right;\">\n",
       "      <th></th>\n",
       "      <th>ride_id</th>\n",
       "      <th>rideable_type</th>\n",
       "      <th>started_at</th>\n",
       "      <th>ended_at</th>\n",
       "      <th>start_station_name</th>\n",
       "      <th>start_station_id</th>\n",
       "      <th>end_station_name</th>\n",
       "      <th>end_station_id</th>\n",
       "      <th>start_lat</th>\n",
       "      <th>start_lng</th>\n",
       "      <th>end_lat</th>\n",
       "      <th>end_lng</th>\n",
       "      <th>member_casual</th>\n",
       "      <th>ride_length</th>\n",
       "      <th>ride_duration</th>\n",
       "      <th>day_of_week</th>\n",
       "    </tr>\n",
       "  </thead>\n",
       "  <tbody>\n",
       "    <tr>\n",
       "      <th>0</th>\n",
       "      <td>2B22BD5F95FB2629</td>\n",
       "      <td>electric_bike</td>\n",
       "      <td>2020-09-17 14:27:11</td>\n",
       "      <td>2020-09-17 14:44:24</td>\n",
       "      <td>Michigan Ave &amp; Lake St</td>\n",
       "      <td>52.0</td>\n",
       "      <td>Green St &amp; Randolph St</td>\n",
       "      <td>112.0</td>\n",
       "      <td>41.886692</td>\n",
       "      <td>-87.623561</td>\n",
       "      <td>41.883570</td>\n",
       "      <td>-87.648731</td>\n",
       "      <td>casual</td>\n",
       "      <td>0:17:13</td>\n",
       "      <td>1033.0</td>\n",
       "      <td>Thu</td>\n",
       "    </tr>\n",
       "    <tr>\n",
       "      <th>1</th>\n",
       "      <td>A7FB70B4AFC6CAF2</td>\n",
       "      <td>electric_bike</td>\n",
       "      <td>2020-09-17 15:07:31</td>\n",
       "      <td>2020-09-17 15:07:45</td>\n",
       "      <td>W Oakdale Ave &amp; N Broadway</td>\n",
       "      <td>NaN</td>\n",
       "      <td>W Oakdale Ave &amp; N Broadway</td>\n",
       "      <td>NaN</td>\n",
       "      <td>41.940000</td>\n",
       "      <td>-87.640000</td>\n",
       "      <td>41.940000</td>\n",
       "      <td>-87.640000</td>\n",
       "      <td>casual</td>\n",
       "      <td>0:00:14</td>\n",
       "      <td>14.0</td>\n",
       "      <td>Thu</td>\n",
       "    </tr>\n",
       "    <tr>\n",
       "      <th>2</th>\n",
       "      <td>86057FA01BAC778E</td>\n",
       "      <td>electric_bike</td>\n",
       "      <td>2020-09-17 15:09:04</td>\n",
       "      <td>2020-09-17 15:09:35</td>\n",
       "      <td>W Oakdale Ave &amp; N Broadway</td>\n",
       "      <td>NaN</td>\n",
       "      <td>W Oakdale Ave &amp; N Broadway</td>\n",
       "      <td>NaN</td>\n",
       "      <td>41.940000</td>\n",
       "      <td>-87.640000</td>\n",
       "      <td>41.940000</td>\n",
       "      <td>-87.640000</td>\n",
       "      <td>casual</td>\n",
       "      <td>0:00:31</td>\n",
       "      <td>31.0</td>\n",
       "      <td>Thu</td>\n",
       "    </tr>\n",
       "    <tr>\n",
       "      <th>3</th>\n",
       "      <td>57F6DC9A153DB98C</td>\n",
       "      <td>electric_bike</td>\n",
       "      <td>2020-09-17 18:10:46</td>\n",
       "      <td>2020-09-17 18:35:49</td>\n",
       "      <td>Ashland Ave &amp; Belle Plaine Ave</td>\n",
       "      <td>246.0</td>\n",
       "      <td>Montrose Harbor</td>\n",
       "      <td>249.0</td>\n",
       "      <td>41.956060</td>\n",
       "      <td>-87.668916</td>\n",
       "      <td>41.963985</td>\n",
       "      <td>-87.638216</td>\n",
       "      <td>casual</td>\n",
       "      <td>0:25:03</td>\n",
       "      <td>1503.0</td>\n",
       "      <td>Thu</td>\n",
       "    </tr>\n",
       "    <tr>\n",
       "      <th>4</th>\n",
       "      <td>B9C4712F78C1AE68</td>\n",
       "      <td>electric_bike</td>\n",
       "      <td>2020-09-17 15:16:13</td>\n",
       "      <td>2020-09-17 15:52:55</td>\n",
       "      <td>Fairbanks Ct &amp; Grand Ave</td>\n",
       "      <td>24.0</td>\n",
       "      <td>Fairbanks Ct &amp; Grand Ave</td>\n",
       "      <td>24.0</td>\n",
       "      <td>41.891860</td>\n",
       "      <td>-87.621008</td>\n",
       "      <td>41.891346</td>\n",
       "      <td>-87.620325</td>\n",
       "      <td>casual</td>\n",
       "      <td>0:36:42</td>\n",
       "      <td>2202.0</td>\n",
       "      <td>Thu</td>\n",
       "    </tr>\n",
       "    <tr>\n",
       "      <th>5</th>\n",
       "      <td>378BBCE1E444EB80</td>\n",
       "      <td>electric_bike</td>\n",
       "      <td>2020-09-17 18:37:04</td>\n",
       "      <td>2020-09-17 19:23:28</td>\n",
       "      <td>Clark St &amp; Armitage Ave</td>\n",
       "      <td>94.0</td>\n",
       "      <td>NaN</td>\n",
       "      <td>NaN</td>\n",
       "      <td>41.918265</td>\n",
       "      <td>-87.636360</td>\n",
       "      <td>41.880000</td>\n",
       "      <td>-87.620000</td>\n",
       "      <td>casual</td>\n",
       "      <td>0:46:24</td>\n",
       "      <td>2784.0</td>\n",
       "      <td>Thu</td>\n",
       "    </tr>\n",
       "    <tr>\n",
       "      <th>6</th>\n",
       "      <td>0CB5E2496B6F1DF8</td>\n",
       "      <td>electric_bike</td>\n",
       "      <td>2020-09-16 21:39:57</td>\n",
       "      <td>2020-09-16 21:53:44</td>\n",
       "      <td>Wells St &amp; Evergreen Ave</td>\n",
       "      <td>291.0</td>\n",
       "      <td>Broadway &amp; Sheridan Rd</td>\n",
       "      <td>256.0</td>\n",
       "      <td>41.906763</td>\n",
       "      <td>-87.635222</td>\n",
       "      <td>41.952771</td>\n",
       "      <td>-87.650024</td>\n",
       "      <td>casual</td>\n",
       "      <td>0:13:47</td>\n",
       "      <td>827.0</td>\n",
       "      <td>Wed</td>\n",
       "    </tr>\n",
       "    <tr>\n",
       "      <th>7</th>\n",
       "      <td>9673F5D39BDBA8BE</td>\n",
       "      <td>electric_bike</td>\n",
       "      <td>2020-09-17 12:18:06</td>\n",
       "      <td>2020-09-17 12:18:19</td>\n",
       "      <td>NaN</td>\n",
       "      <td>NaN</td>\n",
       "      <td>NaN</td>\n",
       "      <td>NaN</td>\n",
       "      <td>41.760000</td>\n",
       "      <td>-87.650000</td>\n",
       "      <td>41.760000</td>\n",
       "      <td>-87.650000</td>\n",
       "      <td>casual</td>\n",
       "      <td>0:00:13</td>\n",
       "      <td>13.0</td>\n",
       "      <td>Thu</td>\n",
       "    </tr>\n",
       "    <tr>\n",
       "      <th>8</th>\n",
       "      <td>54B91F5C95B20268</td>\n",
       "      <td>electric_bike</td>\n",
       "      <td>2020-09-17 17:09:17</td>\n",
       "      <td>2020-09-17 17:34:20</td>\n",
       "      <td>NaN</td>\n",
       "      <td>NaN</td>\n",
       "      <td>NaN</td>\n",
       "      <td>NaN</td>\n",
       "      <td>41.750000</td>\n",
       "      <td>-87.640000</td>\n",
       "      <td>41.780000</td>\n",
       "      <td>-87.650000</td>\n",
       "      <td>casual</td>\n",
       "      <td>0:25:03</td>\n",
       "      <td>1503.0</td>\n",
       "      <td>Thu</td>\n",
       "    </tr>\n",
       "    <tr>\n",
       "      <th>9</th>\n",
       "      <td>91CEBB66076D4713</td>\n",
       "      <td>electric_bike</td>\n",
       "      <td>2020-09-17 12:20:25</td>\n",
       "      <td>2020-09-17 12:29:47</td>\n",
       "      <td>NaN</td>\n",
       "      <td>NaN</td>\n",
       "      <td>NaN</td>\n",
       "      <td>NaN</td>\n",
       "      <td>41.760000</td>\n",
       "      <td>-87.650000</td>\n",
       "      <td>41.750000</td>\n",
       "      <td>-87.640000</td>\n",
       "      <td>casual</td>\n",
       "      <td>0:09:22</td>\n",
       "      <td>562.0</td>\n",
       "      <td>Thu</td>\n",
       "    </tr>\n",
       "  </tbody>\n",
       "</table>\n",
       "</div>"
      ],
      "text/plain": [
       "            ride_id  rideable_type           started_at             ended_at  \\\n",
       "0  2B22BD5F95FB2629  electric_bike  2020-09-17 14:27:11  2020-09-17 14:44:24   \n",
       "1  A7FB70B4AFC6CAF2  electric_bike  2020-09-17 15:07:31  2020-09-17 15:07:45   \n",
       "2  86057FA01BAC778E  electric_bike  2020-09-17 15:09:04  2020-09-17 15:09:35   \n",
       "3  57F6DC9A153DB98C  electric_bike  2020-09-17 18:10:46  2020-09-17 18:35:49   \n",
       "4  B9C4712F78C1AE68  electric_bike  2020-09-17 15:16:13  2020-09-17 15:52:55   \n",
       "5  378BBCE1E444EB80  electric_bike  2020-09-17 18:37:04  2020-09-17 19:23:28   \n",
       "6  0CB5E2496B6F1DF8  electric_bike  2020-09-16 21:39:57  2020-09-16 21:53:44   \n",
       "7  9673F5D39BDBA8BE  electric_bike  2020-09-17 12:18:06  2020-09-17 12:18:19   \n",
       "8  54B91F5C95B20268  electric_bike  2020-09-17 17:09:17  2020-09-17 17:34:20   \n",
       "9  91CEBB66076D4713  electric_bike  2020-09-17 12:20:25  2020-09-17 12:29:47   \n",
       "\n",
       "               start_station_name start_station_id  \\\n",
       "0          Michigan Ave & Lake St             52.0   \n",
       "1      W Oakdale Ave & N Broadway              NaN   \n",
       "2      W Oakdale Ave & N Broadway              NaN   \n",
       "3  Ashland Ave & Belle Plaine Ave            246.0   \n",
       "4        Fairbanks Ct & Grand Ave             24.0   \n",
       "5         Clark St & Armitage Ave             94.0   \n",
       "6        Wells St & Evergreen Ave            291.0   \n",
       "7                             NaN              NaN   \n",
       "8                             NaN              NaN   \n",
       "9                             NaN              NaN   \n",
       "\n",
       "             end_station_name end_station_id  start_lat  start_lng    end_lat  \\\n",
       "0      Green St & Randolph St          112.0  41.886692 -87.623561  41.883570   \n",
       "1  W Oakdale Ave & N Broadway            NaN  41.940000 -87.640000  41.940000   \n",
       "2  W Oakdale Ave & N Broadway            NaN  41.940000 -87.640000  41.940000   \n",
       "3             Montrose Harbor          249.0  41.956060 -87.668916  41.963985   \n",
       "4    Fairbanks Ct & Grand Ave           24.0  41.891860 -87.621008  41.891346   \n",
       "5                         NaN            NaN  41.918265 -87.636360  41.880000   \n",
       "6      Broadway & Sheridan Rd          256.0  41.906763 -87.635222  41.952771   \n",
       "7                         NaN            NaN  41.760000 -87.650000  41.760000   \n",
       "8                         NaN            NaN  41.750000 -87.640000  41.780000   \n",
       "9                         NaN            NaN  41.760000 -87.650000  41.750000   \n",
       "\n",
       "     end_lng member_casual ride_length  ride_duration day_of_week  \n",
       "0 -87.648731        casual     0:17:13         1033.0         Thu  \n",
       "1 -87.640000        casual     0:00:14           14.0         Thu  \n",
       "2 -87.640000        casual     0:00:31           31.0         Thu  \n",
       "3 -87.638216        casual     0:25:03         1503.0         Thu  \n",
       "4 -87.620325        casual     0:36:42         2202.0         Thu  \n",
       "5 -87.620000        casual     0:46:24         2784.0         Thu  \n",
       "6 -87.650024        casual     0:13:47          827.0         Wed  \n",
       "7 -87.650000        casual     0:00:13           13.0         Thu  \n",
       "8 -87.650000        casual     0:25:03         1503.0         Thu  \n",
       "9 -87.640000        casual     0:09:22          562.0         Thu  "
      ]
     },
     "execution_count": 11,
     "metadata": {},
     "output_type": "execute_result"
    }
   ],
   "source": [
    "df.head(10)"
   ]
  },
  {
   "cell_type": "markdown",
   "metadata": {},
   "source": [
    "dump this big `DataFrame` to `master.csv`"
   ]
  },
  {
   "cell_type": "code",
   "execution_count": 12,
   "metadata": {},
   "outputs": [],
   "source": [
    "df.to_csv('data/master.csv',sep='\\t',index=False)"
   ]
  },
  {
   "cell_type": "markdown",
   "metadata": {},
   "source": [
    "now, stop the kernel i.e., dump all variables in memory, run the import statements at the top, and then directly run the code cell below, so that we are dealing with one, ordered `DataFrame`"
   ]
  },
  {
   "cell_type": "code",
   "execution_count": 2,
   "metadata": {},
   "outputs": [],
   "source": [
    "df=pd.read_csv('data/master.csv',sep='\\t',low_memory=False)"
   ]
  },
  {
   "cell_type": "code",
   "execution_count": 5,
   "metadata": {},
   "outputs": [
    {
     "data": {
      "text/plain": [
       "'0:17:13'"
      ]
     },
     "execution_count": 5,
     "metadata": {},
     "output_type": "execute_result"
    }
   ],
   "source": [
    "df.loc[0,'ride_length']"
   ]
  },
  {
   "cell_type": "markdown",
   "metadata": {},
   "source": [
    "now, grouping the data by month to explore the effect of seasons. first, the `month` column is added using the `get_month` function, later passed into `apply`"
   ]
  },
  {
   "cell_type": "code",
   "execution_count": 5,
   "metadata": {
    "scrolled": true
   },
   "outputs": [
    {
     "name": "stdout",
     "output_type": "stream",
     "text": [
      "            ride_id  rideable_type           started_at             ended_at  \\\n",
      "0  2B22BD5F95FB2629  electric_bike  2020-09-17 14:27:11  2020-09-17 14:44:24   \n",
      "1  A7FB70B4AFC6CAF2  electric_bike  2020-09-17 15:07:31  2020-09-17 15:07:45   \n",
      "2  86057FA01BAC778E  electric_bike  2020-09-17 15:09:04  2020-09-17 15:09:35   \n",
      "3  57F6DC9A153DB98C  electric_bike  2020-09-17 18:10:46  2020-09-17 18:35:49   \n",
      "4  B9C4712F78C1AE68  electric_bike  2020-09-17 15:16:13  2020-09-17 15:52:55   \n",
      "5  378BBCE1E444EB80  electric_bike  2020-09-17 18:37:04  2020-09-17 19:23:28   \n",
      "6  0CB5E2496B6F1DF8  electric_bike  2020-09-16 21:39:57  2020-09-16 21:53:44   \n",
      "7  9673F5D39BDBA8BE  electric_bike  2020-09-17 12:18:06  2020-09-17 12:18:19   \n",
      "8  54B91F5C95B20268  electric_bike  2020-09-17 17:09:17  2020-09-17 17:34:20   \n",
      "9  91CEBB66076D4713  electric_bike  2020-09-17 12:20:25  2020-09-17 12:29:47   \n",
      "\n",
      "               start_station_name start_station_id  \\\n",
      "0          Michigan Ave & Lake St             52.0   \n",
      "1      W Oakdale Ave & N Broadway              NaN   \n",
      "2      W Oakdale Ave & N Broadway              NaN   \n",
      "3  Ashland Ave & Belle Plaine Ave            246.0   \n",
      "4        Fairbanks Ct & Grand Ave             24.0   \n",
      "5         Clark St & Armitage Ave             94.0   \n",
      "6        Wells St & Evergreen Ave            291.0   \n",
      "7                             NaN              NaN   \n",
      "8                             NaN              NaN   \n",
      "9                             NaN              NaN   \n",
      "\n",
      "             end_station_name end_station_id  start_lat  start_lng    end_lat  \\\n",
      "0      Green St & Randolph St          112.0  41.886692 -87.623561  41.883570   \n",
      "1  W Oakdale Ave & N Broadway            NaN  41.940000 -87.640000  41.940000   \n",
      "2  W Oakdale Ave & N Broadway            NaN  41.940000 -87.640000  41.940000   \n",
      "3             Montrose Harbor          249.0  41.956060 -87.668916  41.963985   \n",
      "4    Fairbanks Ct & Grand Ave           24.0  41.891860 -87.621008  41.891346   \n",
      "5                         NaN            NaN  41.918265 -87.636360  41.880000   \n",
      "6      Broadway & Sheridan Rd          256.0  41.906763 -87.635222  41.952771   \n",
      "7                         NaN            NaN  41.760000 -87.650000  41.760000   \n",
      "8                         NaN            NaN  41.750000 -87.640000  41.780000   \n",
      "9                         NaN            NaN  41.760000 -87.650000  41.750000   \n",
      "\n",
      "     end_lng member_casual ride_length  ride_duration day_of_week month  \n",
      "0 -87.648731        casual     0:17:13         1033.0         Thu   Sep  \n",
      "1 -87.640000        casual     0:00:14           14.0         Thu   Sep  \n",
      "2 -87.640000        casual     0:00:31           31.0         Thu   Sep  \n",
      "3 -87.638216        casual     0:25:03         1503.0         Thu   Sep  \n",
      "4 -87.620325        casual     0:36:42         2202.0         Thu   Sep  \n",
      "5 -87.620000        casual     0:46:24         2784.0         Thu   Sep  \n",
      "6 -87.650024        casual     0:13:47          827.0         Wed   Sep  \n",
      "7 -87.650000        casual     0:00:13           13.0         Thu   Sep  \n",
      "8 -87.650000        casual     0:25:03         1503.0         Thu   Sep  \n",
      "9 -87.640000        casual     0:09:22          562.0         Thu   Sep  \n"
     ]
    }
   ],
   "source": [
    "#group by month to explore different seasons\n",
    "\n",
    "#adding month column for groupby\n",
    "def get_month(row):\n",
    "    start=dt.strptime(row['started_at'], '%Y-%m-%d %H:%M:%S')\n",
    "    month=dt.strftime(start,'%b')\n",
    "    return month\n",
    "    \n",
    "df.loc[:,'month']=df.apply(get_month,axis=1)\n",
    "print(df.head(10))"
   ]
  },
  {
   "cell_type": "markdown",
   "metadata": {},
   "source": [
    "calculating mean and max of `ride_length`, and group by month"
   ]
  },
  {
   "cell_type": "code",
   "execution_count": 6,
   "metadata": {},
   "outputs": [
    {
     "name": "stdout",
     "output_type": "stream",
     "text": [
      "   month  ride_duration\n",
      "0    Apr    1448.466757\n",
      "1    Aug    1298.160408\n",
      "2    Dec     958.480627\n",
      "3    Feb    1465.370602\n",
      "4    Jan     916.167217\n",
      "5    Jul    1452.661550\n",
      "6    Jun    1564.847153\n",
      "7    Mar    1371.957522\n",
      "8    May    1562.403739\n",
      "9    Nov    1186.804799\n",
      "10   Oct    1206.338681\n",
      "11   Sep    1350.931980\n",
      "   month  ride_duration\n",
      "0    Apr      2866602.0\n",
      "1    Aug      2497750.0\n",
      "2    Dec       584459.0\n",
      "3    Feb      1807754.0\n",
      "4    Jan      1189555.0\n",
      "5    Jul      2946429.0\n",
      "6    Jun      3356649.0\n",
      "7    Mar      1900899.0\n",
      "8    May      3235296.0\n",
      "9    Nov      2156040.0\n",
      "10   Oct      2143463.0\n",
      "11   Sep      3257001.0\n"
     ]
    }
   ],
   "source": [
    "#calculate mean of ride_length\n",
    "#calculate the max ride_length\n",
    "\n",
    "ride_mean_df=df.loc[:,['ride_duration','month']].groupby(['month']).mean()\n",
    "ride_mean_df.reset_index(inplace=True)\n",
    "ride_max_df=df.loc[:,['ride_duration','month']].groupby(['month']).max()\n",
    "ride_max_df.reset_index(inplace=True)\n",
    "print(ride_mean_df)\n",
    "print(ride_max_df)"
   ]
  },
  {
   "cell_type": "markdown",
   "metadata": {},
   "source": [
    "setting plot parameters"
   ]
  },
  {
   "cell_type": "code",
   "execution_count": null,
   "metadata": {},
   "outputs": [],
   "source": [
    "plt.rcParams['font.sans-serif']='Product Sans'\n",
    "\n",
    "SMALL_SIZE = 20\n",
    "MEDIUM_SIZE = 20\n",
    "BIGGER_SIZE=20\n",
    "\n",
    "plt.rc('font', size=SMALL_SIZE)          # controls default text sizes\n",
    "plt.rc('axes', titlesize=SMALL_SIZE)     # fontsize of the axes title\n",
    "plt.rc('axes', labelsize=MEDIUM_SIZE)    # fontsize of the x and y labels\n",
    "plt.rc('xtick', labelsize=SMALL_SIZE)    # fontsize of the tick labels\n",
    "plt.rc('ytick', labelsize=SMALL_SIZE)    # fontsize of the tick labels\n",
    "plt.rc('legend', fontsize=SMALL_SIZE)    # legend fontsize\n",
    "plt.rc('figure', titlesize=BIGGER_SIZE)  # fontsize of the figure title"
   ]
  },
  {
   "cell_type": "markdown",
   "metadata": {},
   "source": [
    "helper functions for plotting and arranging the bars in the plots in chronological order."
   ]
  },
  {
   "cell_type": "code",
   "execution_count": 7,
   "metadata": {},
   "outputs": [],
   "source": [
    "def get_month_num(row):\n",
    "    month_dt=dt.strptime(row['month'],'%b')\n",
    "    return month_dt.month\n",
    "def plot_by_month(in_col,in_df,ylabel_str,figname):\n",
    "    if 'month_num' not in in_df.columns:\n",
    "        in_df.loc[:,'month_num']=in_df.apply(get_month_num,axis=1)\n",
    "    in_df.reset_index(inplace=True)\n",
    "    in_df.sort_values(by=['month_num'],inplace=True)\n",
    "    fig,ax=plt.subplots(figsize=(8,6))\n",
    "    ax.bar(in_df['month_num'],in_df[in_col])\n",
    "    ax.set_xticks(in_df['month_num'])\n",
    "    ax.set_xticklabels(in_df['month'])\n",
    "    ax.set_ylabel(ylabel_str)\n",
    "    ax.set_xlabel('Month')\n",
    "    fig.savefig('figs/'+figname, dpi=1000, bbox_inches='tight')\n",
    "    #plt.show()\n",
    "    "
   ]
  },
  {
   "cell_type": "markdown",
   "metadata": {},
   "source": [
    "now the `plot_by_month` is ready to use"
   ]
  },
  {
   "cell_type": "code",
   "execution_count": 8,
   "metadata": {},
   "outputs": [
    {
     "data": {
      "image/png": "[encoded data removed]",
      "text/plain": [
       "<Figure size 576x432 with 1 Axes>"
      ]
     },
     "metadata": {
      "needs_background": "light"
     },
     "output_type": "display_data"
    }
   ],
   "source": [
    "plot_by_month('ride_duration',ride_mean_df,\n",
    "              'Average ride length (s)',figname='ride_mean_month')"
   ]
  },
  {
   "cell_type": "code",
   "execution_count": 9,
   "metadata": {},
   "outputs": [
    {
     "data": {
      "image/png": "[encoded data removed]",
      "text/plain": [
       "<Figure size 576x432 with 1 Axes>"
      ]
     },
     "metadata": {
      "needs_background": "light"
     },
     "output_type": "display_data"
    }
   ],
   "source": [
    "plot_by_month('ride_duration',ride_max_df,\n",
    "              'Maximum ride length (s)',figname='ride_max_month')"
   ]
  },
  {
   "cell_type": "markdown",
   "metadata": {},
   "source": [
    "calculating the mode of `day_of_week` for each month in the dataset"
   ]
  },
  {
   "cell_type": "code",
   "execution_count": 10,
   "metadata": {},
   "outputs": [
    {
     "name": "stdout",
     "output_type": "stream",
     "text": [
      "month\n",
      "Apr    Fri\n",
      "Aug    Sun\n",
      "Dec    Wed\n",
      "Feb    Sat\n",
      "Jan    Sat\n",
      "Jul    Sat\n",
      "Jun    Sat\n",
      "Mar    Sat\n",
      "May    Sat\n",
      "Nov    Sat\n",
      "Oct    Sat\n",
      "Sep    Sat\n",
      "Name: day_of_week, dtype: object\n"
     ]
    }
   ],
   "source": [
    "#calculate the mode of day of week\n",
    "print(df.loc[:,['day_of_week','month']].groupby(['month'])['day_of_week'].agg(pd.Series.mode))"
   ]
  },
  {
   "cell_type": "markdown",
   "metadata": {},
   "source": [
    "calculating the `average_ride_length` for members vs. casual users of the service, grouped by month"
   ]
  },
  {
   "cell_type": "code",
   "execution_count": 11,
   "metadata": {
    "scrolled": true
   },
   "outputs": [
    {
     "name": "stdout",
     "output_type": "stream",
     "text": [
      "               ride_duration\n",
      "member_casual               \n",
      "casual           1999.085630\n",
      "member            858.107047\n",
      "                     ride_duration\n",
      "member_casual month               \n",
      "casual        Apr      2281.379390\n",
      "              Aug      1727.220815\n",
      "              Dec      1610.976431\n",
      "              Feb      2962.393742\n",
      "              Jan      1541.075399\n",
      "              Jul      1967.446008\n",
      "              Jun      2227.304445\n",
      "              Mar      2289.551147\n",
      "              May      2293.857973\n",
      "              Nov      1909.168181\n",
      "              Oct      1815.311702\n",
      "              Sep      1910.733953\n",
      "member        Apr       881.352660\n",
      "              Aug       846.093632\n",
      "              Dec       764.961450\n",
      "              Feb      1081.325087\n",
      "              Jan       772.338703\n",
      "              Jul       854.370402\n",
      "              Jun       880.672914\n",
      "              Mar       838.203126\n",
      "              May       878.340997\n",
      "              Nov       815.307857\n",
      "              Oct       842.963214\n",
      "              Sep       871.125606\n"
     ]
    }
   ],
   "source": [
    "#calculate the average ride_length for members vs. casual riders\n",
    "\n",
    "\n",
    "print(df.loc[:,['ride_duration','month','member_casual']].groupby(['member_casual']).mean())\n",
    "print(df.loc[:,['ride_duration','month','member_casual']].groupby(['member_casual','month']).mean())"
   ]
  },
  {
   "cell_type": "markdown",
   "metadata": {},
   "source": [
    "plotting these turned out to be not as straight-forward as I expected. so, some 'wrangling' was required"
   ]
  },
  {
   "cell_type": "code",
   "execution_count": 12,
   "metadata": {},
   "outputs": [
    {
     "data": {
      "image/png": "[encoded data removed]",
      "text/plain": [
       "<Figure size 576x432 with 1 Axes>"
      ]
     },
     "metadata": {
      "needs_background": "light"
     },
     "output_type": "display_data"
    }
   ],
   "source": [
    "ride_mem_mon_df=df.loc[:,['ride_duration','month','member_casual']].groupby(['member_casual','month']).mean()\n",
    "ride_mem_mon_df.reset_index(inplace=True)\n",
    "ride_mem_mon_df.loc[:,'month_num']=ride_mem_mon_df.apply(get_month_num,axis=1)\n",
    "ride_mem_mon_df.sort_values(by=['month_num'],inplace=True)\n",
    "casual_y=ride_mem_mon_df['ride_duration'][ride_mem_mon_df['member_casual']=='casual']\n",
    "member_y=ride_mem_mon_df['ride_duration'][ride_mem_mon_df['member_casual']=='member']\n",
    "x=list(range(1,13))\n",
    "labels=ride_mem_mon_df['month'][ride_mem_mon_df['member_casual']=='member']\n",
    "fig,ax=plt.subplots(figsize=(8,6))\n",
    "width=0.35\n",
    "ax.bar([i-(width/2) for i in x],casual_y,width,label='casual',color='tab:blue')\n",
    "ax.bar([i+(width/2) for i in x],member_y,width,label='member',color='tab:orange')\n",
    "ax.legend()\n",
    "ax.set_xticks(x)\n",
    "ax.set_xticklabels(labels)\n",
    "ax.set_ylabel('Average ride duration (s)')\n",
    "ax.set_xlabel('Month')\n",
    "#plt.show()\n",
    "fig.savefig('figs/ride_mem_month', dpi=1000, bbox_inches='tight')"
   ]
  },
  {
   "cell_type": "markdown",
   "metadata": {},
   "source": [
    "calculate average `ride_length` by day of week to see which day(s) of the week correspond to the longest (and shortest) ride lengths"
   ]
  },
  {
   "cell_type": "code",
   "execution_count": 13,
   "metadata": {},
   "outputs": [
    {
     "name": "stdout",
     "output_type": "stream",
     "text": [
      "             ride_duration\n",
      "day_of_week               \n",
      "Fri            1328.995374\n",
      "Mon            1312.232812\n",
      "Sat            1639.422024\n",
      "Sun            1730.101161\n",
      "Thu            1162.493949\n",
      "Tue            1166.617892\n",
      "Wed            1168.225628\n",
      "                   ride_duration\n",
      "day_of_week month               \n",
      "Fri         Apr      1486.227972\n",
      "            Aug      1250.701940\n",
      "            Dec       890.235954\n",
      "            Feb      1540.214462\n",
      "            Jan       856.319641\n",
      "...                          ...\n",
      "Wed         Mar      1041.507563\n",
      "            May      1208.726240\n",
      "            Nov       965.024286\n",
      "            Oct      1068.983811\n",
      "            Sep      1146.135277\n",
      "\n",
      "[84 rows x 1 columns]\n"
     ]
    }
   ],
   "source": [
    "#calculate the average ride_length by day_of_week\n",
    "#calculate the number of rides for users by day_of_week by adding count of trip_id\n",
    "print(df.loc[:,['ride_duration','month','day_of_week']].groupby(['day_of_week']).mean())\n",
    "print(df.loc[:,['ride_duration','month','day_of_week']].groupby(['day_of_week','month']).mean())"
   ]
  },
  {
   "cell_type": "markdown",
   "metadata": {},
   "source": [
    "again, some 'wrangling' was required to get the days of the week to show up in chronological order on the plot"
   ]
  },
  {
   "cell_type": "code",
   "execution_count": 14,
   "metadata": {},
   "outputs": [
    {
     "name": "stdout",
     "output_type": "stream",
     "text": [
      "  day_of_week  ride_duration  dow_num\n",
      "1         Mon    1312.232812        1\n",
      "5         Tue    1166.617892        2\n",
      "6         Wed    1168.225628        3\n",
      "4         Thu    1162.493949        4\n",
      "0         Fri    1328.995374        5\n",
      "2         Sat    1639.422024        6\n",
      "3         Sun    1730.101161        7\n"
     ]
    },
    {
     "data": {
      "image/png": "[encoded data removed]",
      "text/plain": [
       "<Figure size 576x432 with 1 Axes>"
      ]
     },
     "metadata": {
      "needs_background": "light"
     },
     "output_type": "display_data"
    }
   ],
   "source": [
    "def get_month_num(row):\n",
    "    month_dt=dt.strptime(row['month'],'%b')\n",
    "    return month_dt.month\n",
    "\n",
    "days={0:'Mon',1:'Tue',2:'Wed',\n",
    "     3:'Thu',4:'Fri',5:'Sat',6:'Sun'}\n",
    "dow_nums={'Mon':1, 'Tue':2, 'Wed':3,\n",
    "         'Thu':4, 'Fri':5, 'Sat':6, 'Sun':7}\n",
    "def get_dow_num(row):\n",
    "    return dow_nums[row['day_of_week']]\n",
    "\n",
    "\n",
    "ride_day_df=df.loc[:,['ride_duration','month','day_of_week']].groupby(['day_of_week']).mean()\n",
    "ride_day_df.reset_index(inplace=True)\n",
    "ride_day_df.loc[:,'dow_num']=ride_day_df.apply(get_dow_num,axis=1)\n",
    "ride_day_df.sort_values(by=['dow_num'],inplace=True)\n",
    "print(ride_day_df)\n",
    "fig,ax=plt.subplots(figsize=(8,6))\n",
    "ax.bar(ride_day_df['dow_num'],ride_day_df['ride_duration'])\n",
    "ax.set_xticks(ride_day_df['dow_num'])\n",
    "ax.set_xticklabels(ride_day_df['day_of_week'])\n",
    "ax.set_ylabel('Average ride duration (s)')\n",
    "ax.set_xlabel('Day of Week')\n",
    "fig.savefig('figs/ride_day', dpi=1000, bbox_inches='tight')\n",
    "#plt.show()"
   ]
  },
  {
   "cell_type": "code",
   "execution_count": 21,
   "metadata": {},
   "outputs": [
    {
     "data": {
      "text/plain": [
       "6FA7E6905E98728A    2\n",
       "789640C9FEF98525    2\n",
       "274C073E4F96B726    2\n",
       "8F46132F5095A1C4    2\n",
       "D6F0C7555EB098DB    2\n",
       "                   ..\n",
       "5EB69D7A429E525C    1\n",
       "36D192A351655F41    1\n",
       "812F66F9E33F07D1    1\n",
       "203A10DE8856A3C7    1\n",
       "343190A2DC023FED    1\n",
       "Name: ride_id, Length: 5669010, dtype: int64"
      ]
     },
     "execution_count": 21,
     "metadata": {},
     "output_type": "execute_result"
    }
   ],
   "source": [
    "#calculate the number of rides for users by day_of_week by adding count of trip_id\n",
    "df.loc[:,'ride_id'].value_counts()"
   ]
  }
 ],
 "metadata": {
  "kernelspec": {
   "display_name": ".venv",
   "language": "python",
   "name": ".venv"
  },
  "language_info": {
   "codemirror_mode": {
    "name": "ipython",
    "version": 3
   },
   "file_extension": ".py",
   "mimetype": "text/x-python",
   "name": "python",
   "nbconvert_exporter": "python",
   "pygments_lexer": "ipython3",
   "version": "3.9.5"
  }
 },
 "nbformat": 4,
 "nbformat_minor": 2
}
